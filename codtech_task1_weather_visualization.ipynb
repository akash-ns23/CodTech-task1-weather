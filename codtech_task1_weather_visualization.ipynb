{
 "cells": [
  {
   "cell_type": "markdown",
   "id": "1a20f11b",
   "metadata": {},
   "source": [
    "# CodTech Internship Task 1\n",
    "**API Integration and Data Visualization using OpenWeatherMap API**\n",
    "\n",
    "Author: Akash N.S."
   ]
  },
  {
   "cell_type": "code",
   "execution_count": null,
   "id": "daf78b49",
   "metadata": {},
   "outputs": [],
   "source": [
    "# Step 1: Import necessary libraries\n",
    "import requests\n",
    "import matplotlib.pyplot as plt"
   ]
  },
  {
   "cell_type": "code",
   "execution_count": null,
   "id": "f3970ec1",
   "metadata": {},
   "outputs": [],
   "source": [
    "# Step 2: Function to fetch weather data\n",
    "def fetch_weather_data(city, api_key):\n",
    "    url = f\"http://api.openweathermap.org/data/2.5/weather?q={city}&appid={api_key}&units=metric\"\n",
    "    response = requests.get(url)\n",
    "    if response.status_code == 200:\n",
    "        return response.json()\n",
    "    else:\n",
    "        print(\"Failed to fetch data. Check the city name or API key.\")\n",
    "        return None"
   ]
  },
  {
   "cell_type": "code",
   "execution_count": null,
   "id": "7239b933",
   "metadata": {},
   "outputs": [],
   "source": [
    "# Step 3: Function to visualize data using Matplotlib\n",
    "def visualize_weather_data(city, data):\n",
    "    labels = ['Temperature (°C)', 'Humidity (%)', 'Wind Speed (m/s)']\n",
    "    values = [\n",
    "        data['main']['temp'],\n",
    "        data['main']['humidity'],\n",
    "        data['wind']['speed']\n",
    "    ]\n",
    "    \n",
    "    plt.figure(figsize=(8, 5))\n",
    "    bars = plt.bar(labels, values, color=['skyblue', 'lightgreen', 'salmon'])\n",
    "    plt.title(f\"Weather Data for {city}\")\n",
    "    plt.ylabel(\"Values\")\n",
    "    for bar in bars:\n",
    "        yval = bar.get_height()\n",
    "        plt.text(bar.get_x() + 0.1, yval + 0.5, round(yval, 2))\n",
    "    plt.tight_layout()\n",
    "    plt.savefig(\"weather_dashboard.png\")\n",
    "    plt.show()"
   ]
  },
  {
   "cell_type": "code",
   "execution_count": null,
   "id": "32aa322f",
   "metadata": {},
   "outputs": [],
   "source": [
    "# Step 4: Run the full program\n",
    "api_key = \"YOUR_API_KEY\"  # Replace with your OpenWeatherMap API key\n",
    "city = \"Coimbatore\"\n",
    "\n",
    "data = fetch_weather_data(city, api_key)\n",
    "if data:\n",
    "    visualize_weather_data(city, data)"
   ]
  }
 ],
 "metadata": {
  "language": "python"
 },
 "nbformat": 4,
 "nbformat_minor": 5
}